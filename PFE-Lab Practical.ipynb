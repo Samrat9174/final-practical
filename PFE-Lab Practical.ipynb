{
  "cells": [
    {
      "cell_type": "markdown",
      "metadata": {
        "colab_type": "text",
        "id": "view-in-github"
      },
      "source": [
        "<a href=\"https://colab.research.google.com/github/vinthegreat84/PFE-Lab/blob/main/CALIPER_EXERCISE.ipynb\" target=\"_parent\"><img src=\"https://colab.research.google.com/assets/colab-badge.svg\" alt=\"Open In Colab\"/></a>"
      ]
    },
    {
      "cell_type": "code",
      "execution_count": null,
      "metadata": {
        "colab": {
          "base_uri": "https://localhost:8080/"
        },
        "id": "go2kIgab_FHv",
        "outputId": "e0dbc736-4153-44e2-fb43-b8c89e1f3171"
      },
      "outputs": [],
      "source": [
        "import pandas as pd\n",
        "import numpy as np\n",
        "import matplotlib.pyplot as plt\n",
        "plt.style.use('seaborn-darkgrid')\n",
        "import seaborn as sns \n",
        "import plotly.express as px\n",
        "import plotly.graph_objects as go\n",
        "from plotly.subplots import make_subplots\n",
        "import plotnine\n",
        "\n",
        "!pip install scikit-learn\n",
        "\n",
        "from numpy import arange,array,ones\n",
        "from scipy import stats\n",
        "\n",
        "!pip install dfply\n",
        "import dfply\n",
        "from dfply import *\n",
        "\n",
        "from plotnine import ggplot, aes\n",
        "\n",
        "from mizani.formatters import comma_format\n",
        "\n",
        "import ipywidgets\n",
        "\n",
        "import warnings\n",
        "warnings.filterwarnings('ignore') \n",
        "\n",
        "from IPython.display import display"
      ]
    },
    {
      "cell_type": "code",
      "execution_count": 2,
      "metadata": {
        "id": "l1kcVWviba01"
      },
      "outputs": [],
      "source": [
        "def mudcake_dia (d_h):\n",
        "  d_bit = 8.5\n",
        "  h_mc  = (d_bit - d_h) / 2\n",
        "  return h_mc"
      ]
    },
    {
      "cell_type": "code",
      "execution_count": null,
      "metadata": {
        "colab": {
          "base_uri": "https://localhost:8080/"
        },
        "id": "v7KES_hBRuVL",
        "outputId": "fe3cd453-44af-4b08-f64a-a405e025c056"
      },
      "outputs": [],
      "source": [
        "print('5.1 Mean mud-cake thickness in interval 2980 m to 3035 m, hmc =', mudcake_dia(7.5), 'in')\n",
        "print('5.2 Mean mud-cake thickness in interval 3082 m to 3145 m, hmc =', mudcake_dia(8.0), 'in')"
      ]
    },
    {
      "cell_type": "code",
      "execution_count": 4,
      "metadata": {
        "id": "JM3reeM7T-TZ"
      },
      "outputs": [],
      "source": [
        "def borehole_vol (d_h):\n",
        "  V_h  = d_h**2/2\n",
        "  V_h  = V_h + V_h*0.012\n",
        "  return V_h"
      ]
    },
    {
      "cell_type": "code",
      "execution_count": 5,
      "metadata": {
        "colab": {
          "base_uri": "https://localhost:8080/"
        },
        "id": "qSve7qbBZp_3",
        "outputId": "7234abc1-796b-4194-ca63-cf0adb82b72f"
      },
      "outputs": [
        {
          "name": "stdout",
          "output_type": "stream",
          "text": [
            "6. The approximate borehole volume in the intervals 2900 to 3250 m, Vh = 28.4625 litres/m or 9961.875 litres\n"
          ]
        }
      ],
      "source": [
        "start_depth = 2900\n",
        "end_depth   = 3250\n",
        "\n",
        "print('6. The approximate borehole volume in the intervals', start_depth, 'to', end_depth, 'm,', 'Vh =', borehole_vol (7.5), 'litres/m', 'or', \n",
        "borehole_vol (7.5) * (end_depth - start_depth), 'litres')"
      ]
    },
    {
      "cell_type": "code",
      "execution_count": 6,
      "metadata": {
        "id": "GrF4QWGchxjo"
      },
      "outputs": [],
      "source": [
        "def cement_vol (d_h, d_casing):\n",
        "  V_cement  = 0.5 * (d_h**2 - d_casing**2)\n",
        "  V_cement  = V_cement + V_cement*0.01\n",
        "  return V_cement"
      ]
    },
    {
      "cell_type": "code",
      "execution_count": 7,
      "metadata": {
        "colab": {
          "base_uri": "https://localhost:8080/"
        },
        "id": "bVsq9G1oirNT",
        "outputId": "f66e97b0-69d7-4928-d029-2baaad8a6339"
      },
      "outputs": [
        {
          "name": "stdout",
          "output_type": "stream",
          "text": [
            "7. The cement volume required to complete the borehole between 2900 to 3250 m, Vcement = 3.66125 litres/m or 1281.4375 litres\n"
          ]
        }
      ],
      "source": [
        "print('7. The cement volume required to complete the borehole between', start_depth, 'to', end_depth, 'm,', 'Vcement =', cement_vol (7.5, 7.0), 'litres/m', 'or', \n",
        "cement_vol (7.5, 7.0) * (end_depth - start_depth), 'litres')"
      ]
    }
  ],
  "metadata": {
    "colab": {
      "authorship_tag": "ABX9TyO7+TpMkyLDy7WdE1rE1Xqg",
      "collapsed_sections": [],
      "include_colab_link": true,
      "name": "CALIPER EXERCISE.ipynb",
      "provenance": []
    },
    "kernelspec": {
      "display_name": "Python 3",
      "name": "python3"
    },
    "language_info": {
      "name": "python"
    }
  },
  "nbformat": 4,
  "nbformat_minor": 0
}
